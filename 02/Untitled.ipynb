{
 "cells": [
  {
   "cell_type": "code",
   "execution_count": 1,
   "metadata": {
    "collapsed": false
   },
   "outputs": [
    {
     "name": "stdout",
     "output_type": "stream",
     "text": [
      "[[  2.74656694e-08]\n",
      " [  2.85638784e-02]\n",
      " [  2.75730621e-08]\n",
      " [  4.78327626e-08]\n",
      " [  2.63777287e-09]\n",
      " [  1.49296787e-01]\n",
      " [  1.19199028e-07]\n",
      " [  2.09648396e-08]\n",
      " [  2.46747598e-01]\n",
      " [  5.78236593e-01]\n",
      " [  5.29023642e-09]\n",
      " [  1.01716277e-03]\n",
      " [  8.73750280e-09]\n",
      " [  2.26771054e-01]\n",
      " [  1.37218553e-08]\n",
      " [  2.10140304e-08]\n",
      " [  4.08413440e-08]\n",
      " [  4.52415813e-09]\n",
      " [  2.55078041e-08]\n",
      " [  6.32814150e-09]]\n",
      "[[  2.50930786e+00]\n",
      " [  2.67848029e-06]\n",
      " [  2.78353157e+00]\n",
      " [  1.79423617e+00]\n",
      " [  1.30858969e+01]\n",
      " [  5.59976489e-07]\n",
      " [  7.37035767e-01]\n",
      " [  3.35348867e+00]\n",
      " [  3.53782570e-07]\n",
      " [  1.58362470e-07]\n",
      " [  8.93824713e+00]\n",
      " [  3.08624097e-04]\n",
      " [  7.02959474e+00]\n",
      " [  3.97069600e-07]\n",
      " [  4.71054026e+00]\n",
      " [  3.18864112e+00]\n",
      " [  2.06076796e+00]\n",
      " [  1.00817336e+01]\n",
      " [  3.04814645e+00]\n",
      " [  8.53266394e+00]]\n"
     ]
    }
   ],
   "source": [
    "from cvxpy import *\n",
    "import numpy\n",
    "\n",
    "# Problem data.\n",
    "m = 30\n",
    "n = 20\n",
    "numpy.random.seed(1)\n",
    "A = numpy.random.randn(m, n)\n",
    "b = numpy.random.randn(m)\n",
    "\n",
    "# Construct the problem.\n",
    "x = Variable(n)\n",
    "objective = Minimize(sum_squares(A*x - b))\n",
    "constraints = [0 <= x, x <= 1]\n",
    "prob = Problem(objective, constraints)\n",
    "\n",
    "# The optimal objective is returned by prob.solve().\n",
    "result = prob.solve()\n",
    "# The optimal value for x is stored in x.value.\n",
    "print(x.value)\n",
    "# The optimal Lagrange multiplier for a constraint\n",
    "# is stored in constraint.dual_value.\n",
    "print(constraints[0].dual_value)"
   ]
  },
  {
   "cell_type": "code",
   "execution_count": null,
   "metadata": {
    "collapsed": true
   },
   "outputs": [],
   "source": []
  }
 ],
 "metadata": {
  "kernelspec": {
   "display_name": "Python 2",
   "language": "python",
   "name": "python2"
  },
  "language_info": {
   "codemirror_mode": {
    "name": "ipython",
    "version": 2
   },
   "file_extension": ".py",
   "mimetype": "text/x-python",
   "name": "python",
   "nbconvert_exporter": "python",
   "pygments_lexer": "ipython2",
   "version": "2.7.10"
  }
 },
 "nbformat": 4,
 "nbformat_minor": 0
}
