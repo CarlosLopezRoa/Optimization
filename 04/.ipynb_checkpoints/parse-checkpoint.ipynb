{
 "cells": [
  {
   "cell_type": "code",
   "execution_count": 1,
   "metadata": {
    "collapsed": true
   },
   "outputs": [],
   "source": [
    "import csv\n"
   ]
  },
  {
   "cell_type": "code",
   "execution_count": 4,
   "metadata": {
    "collapsed": false
   },
   "outputs": [],
   "source": []
  },
  {
   "cell_type": "code",
   "execution_count": 5,
   "metadata": {
    "collapsed": true
   },
   "outputs": [],
   "source": [
    "i=1\n",
    "f1 = open('x10.txt','w')\n",
    "f2 = open('y10.txt','w')\n",
    "\n",
    "with open('10.dat','r') as rf:\n",
    "    reader = csv.reader(rf,delimiter=' ')\n",
    "    for row in reader:\n",
    "        f1.write(row[0]+' '+row[1]+' '+row[2]+' '+row[3]+'\\n')\n",
    "        f2.write(row[6]+'\\n')\n",
    "        i += 1\n",
    "\n",
    "f1.close() \n",
    "f2.close()"
   ]
  },
  {
   "cell_type": "code",
   "execution_count": 6,
   "metadata": {
    "collapsed": true
   },
   "outputs": [],
   "source": [
    "i=1\n",
    "f1 = open('x100.txt','w')\n",
    "f2 = open('y100.txt','w')\n",
    "\n",
    "with open('100.dat','r') as rf:\n",
    "    reader = csv.reader(rf,delimiter=' ')\n",
    "    for row in reader:\n",
    "        f1.write(row[0]+' '+row[1]+' '+row[2]+' '+row[3]+'\\n')\n",
    "        f2.write(row[6]+'\\n')\n",
    "        i += 1\n",
    "\n",
    "f1.close() \n",
    "f2.close()"
   ]
  },
  {
   "cell_type": "code",
   "execution_count": 7,
   "metadata": {
    "collapsed": true
   },
   "outputs": [],
   "source": [
    "i=1\n",
    "f1 = open('x1000.txt','w')\n",
    "f2 = open('y1000.txt','w')\n",
    "\n",
    "with open('1000.dat','r') as rf:\n",
    "    reader = csv.reader(rf,delimiter=' ')\n",
    "    for row in reader:\n",
    "        f1.write(row[0]+' '+row[1]+' '+row[2]+' '+row[3]+'\\n')\n",
    "        f2.write(row[6]+'\\n')\n",
    "        i += 1\n",
    "\n",
    "f1.close() \n",
    "f2.close()"
   ]
  },
  {
   "cell_type": "code",
   "execution_count": 8,
   "metadata": {
    "collapsed": true
   },
   "outputs": [],
   "source": [
    "i=1\n",
    "f1 = open('x10000.txt','w')\n",
    "f2 = open('y10000.txt','w')\n",
    "\n",
    "with open('10000.dat','r') as rf:\n",
    "    reader = csv.reader(rf,delimiter=' ')\n",
    "    for row in reader:\n",
    "        f1.write(row[0]+' '+row[1]+' '+row[2]+' '+row[3]+'\\n')\n",
    "        f2.write(row[6]+'\\n')\n",
    "        i += 1\n",
    "\n",
    "f1.close() \n",
    "f2.close()"
   ]
  },
  {
   "cell_type": "code",
   "execution_count": 9,
   "metadata": {
    "collapsed": true
   },
   "outputs": [],
   "source": [
    "i=1\n",
    "f1 = open('x100000.txt','w')\n",
    "f2 = open('x100000.txt','w')\n",
    "\n",
    "with open('100000.dat','r') as rf:\n",
    "    reader = csv.reader(rf,delimiter=' ')\n",
    "    for row in reader:\n",
    "        f1.write(row[0]+' '+row[1]+' '+row[2]+' '+row[3]+'\\n')\n",
    "        f2.write(row[6]+'\\n')\n",
    "        i += 1\n",
    "\n",
    "f1.close() \n",
    "f2.close()"
   ]
  },
  {
   "cell_type": "code",
   "execution_count": null,
   "metadata": {
    "collapsed": true
   },
   "outputs": [],
   "source": []
  }
 ],
 "metadata": {
  "kernelspec": {
   "display_name": "Python 2",
   "language": "python",
   "name": "python2"
  },
  "language_info": {
   "codemirror_mode": {
    "name": "ipython",
    "version": 2
   },
   "file_extension": ".py",
   "mimetype": "text/x-python",
   "name": "python",
   "nbconvert_exporter": "python",
   "pygments_lexer": "ipython2",
   "version": "2.7.10"
  }
 },
 "nbformat": 4,
 "nbformat_minor": 0
}
