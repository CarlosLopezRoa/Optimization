{
 "cells": [
  {
   "cell_type": "code",
   "execution_count": 1,
   "metadata": {
    "collapsed": true
   },
   "outputs": [],
   "source": [
    "import csv\n"
   ]
  },
  {
   "cell_type": "code",
   "execution_count": 18,
   "metadata": {
    "collapsed": false
   },
   "outputs": [
    {
     "name": "stdout",
     "output_type": "stream",
     "text": [
      "yes\n"
     ]
    }
   ],
   "source": [
    "if \"blah\" not in \"somestring\": \n",
    "    print(\"yes\")"
   ]
  },
  {
   "cell_type": "code",
   "execution_count": 20,
   "metadata": {
    "collapsed": false
   },
   "outputs": [
    {
     "name": "stdout",
     "output_type": "stream",
     "text": [
      "yes\n"
     ]
    }
   ],
   "source": [
    "if \"*\" in \"1.0*\":\n",
    "    print(\"yes\")"
   ]
  },
  {
   "cell_type": "code",
   "execution_count": 21,
   "metadata": {
    "collapsed": true
   },
   "outputs": [],
   "source": [
    "i=1\n",
    "f1 = open('x10.txt','w')\n",
    "f2 = open('y10.txt','w')\n",
    "\n",
    "with open('10.dat','r') as rf:\n",
    "    reader = csv.reader(rf,delimiter=' ')\n",
    "    for row in reader:\n",
    "        if \"*\" not in row[6]:\n",
    "            f1.write(row[0]+' '+row[1]+' '+row[2]+' '+row[3]+'\\n')\n",
    "            f2.write(row[6]+'\\n')\n",
    "        i += 1\n",
    "\n",
    "f1.close() \n",
    "f2.close()"
   ]
  },
  {
   "cell_type": "code",
   "execution_count": 22,
   "metadata": {
    "collapsed": true
   },
   "outputs": [],
   "source": [
    "i=1\n",
    "f1 = open('x100.txt','w')\n",
    "f2 = open('y100.txt','w')\n",
    "\n",
    "with open('100.dat','r') as rf:\n",
    "    reader = csv.reader(rf,delimiter=' ')\n",
    "    for row in reader:\n",
    "        if \"*\" not in row[6]:\n",
    "            f1.write(row[0]+' '+row[1]+' '+row[2]+' '+row[3]+'\\n')\n",
    "            f2.write(row[6]+'\\n')\n",
    "        i += 1\n",
    "\n",
    "f1.close() \n",
    "f2.close()"
   ]
  },
  {
   "cell_type": "code",
   "execution_count": 23,
   "metadata": {
    "collapsed": true
   },
   "outputs": [],
   "source": [
    "i=1\n",
    "f1 = open('x1000.txt','w')\n",
    "f2 = open('y1000.txt','w')\n",
    "\n",
    "with open('1000.dat','r') as rf:\n",
    "    reader = csv.reader(rf,delimiter=' ')\n",
    "    for row in reader:\n",
    "        if \"*\" not in row[6]:\n",
    "            f1.write(row[0]+' '+row[1]+' '+row[2]+' '+row[3]+'\\n')\n",
    "            f2.write(row[6]+'\\n')\n",
    "        i += 1\n",
    "\n",
    "f1.close() \n",
    "f2.close()"
   ]
  },
  {
   "cell_type": "code",
   "execution_count": 24,
   "metadata": {
    "collapsed": true
   },
   "outputs": [],
   "source": [
    "i=1\n",
    "f1 = open('x10000.txt','w')\n",
    "f2 = open('y10000.txt','w')\n",
    "\n",
    "with open('10000.dat','r') as rf:\n",
    "    reader = csv.reader(rf,delimiter=' ')\n",
    "    for row in reader:\n",
    "        if \"*\" not in row[6]:\n",
    "            f1.write(row[0]+' '+row[1]+' '+row[2]+' '+row[3]+'\\n')\n",
    "            f2.write(row[6]+'\\n')\n",
    "        i += 1\n",
    "\n",
    "f1.close() \n",
    "f2.close()"
   ]
  },
  {
   "cell_type": "code",
   "execution_count": 25,
   "metadata": {
    "collapsed": true
   },
   "outputs": [],
   "source": [
    "i=1\n",
    "f1 = open('x100000.txt','w')\n",
    "f2 = open('y100000.txt','w')\n",
    "\n",
    "with open('100000.dat','r') as rf:\n",
    "    reader = csv.reader(rf,delimiter=' ')\n",
    "    for row in reader:\n",
    "        if \"*\" not in row[6]:\n",
    "            f1.write(row[0]+' '+row[1]+' '+row[2]+' '+row[3]+'\\n')\n",
    "            f2.write(row[6]+'\\n')\n",
    "        i += 1\n",
    "\n",
    "f1.close() \n",
    "f2.close()"
   ]
  },
  {
   "cell_type": "code",
   "execution_count": 26,
   "metadata": {
    "collapsed": true
   },
   "outputs": [],
   "source": [
    "i=1\n",
    "f1 = open('x1000000.txt','w')\n",
    "f2 = open('y1000000.txt','w')\n",
    "\n",
    "with open('1000000.dat','r') as rf:\n",
    "    reader = csv.reader(rf,delimiter=' ')\n",
    "    for row in reader:\n",
    "        if \"*\" not in row[6]:\n",
    "            f1.write(row[0]+' '+row[1]+' '+row[2]+' '+row[3]+'\\n')\n",
    "            f2.write(row[6]+'\\n')\n",
    "        i += 1\n",
    "\n",
    "f1.close() \n",
    "f2.close()"
   ]
  },
  {
   "cell_type": "code",
   "execution_count": null,
   "metadata": {
    "collapsed": true
   },
   "outputs": [],
   "source": []
  }
 ],
 "metadata": {
  "kernelspec": {
   "display_name": "Python 2",
   "language": "python",
   "name": "python2"
  },
  "language_info": {
   "codemirror_mode": {
    "name": "ipython",
    "version": 2
   },
   "file_extension": ".py",
   "mimetype": "text/x-python",
   "name": "python",
   "nbconvert_exporter": "python",
   "pygments_lexer": "ipython2",
   "version": "2.7.10"
  }
 },
 "nbformat": 4,
 "nbformat_minor": 0
}
